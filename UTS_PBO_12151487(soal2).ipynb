{
 "cells": [
  {
   "cell_type": "code",
   "execution_count": 42,
   "metadata": {},
   "outputs": [
    {
     "name": "stdout",
     "output_type": "stream",
     "text": [
      "masukkan tinggi : 1\n",
      "masukkan jari-jari : 5\n",
      "luas kerucut =  158\n",
      "volume kerucut =  26\n",
      "ulang lagi y/t = t\n",
      "selesai\n"
     ]
    }
   ],
   "source": [
    "\n",
    "import math\n",
    "\n",
    "tinggi=int(input(\"masukkan tinggi : \"))\n",
    "jari=int(input(\"masukkan jari-jari : \"))\n",
    "\n",
    "phi=22/7\n",
    "\n",
    "pelukis=math.sqrt((jari*jari)+(tinggi*tinggi))\n",
    "\n",
    "luas=int(phi*jari*(jari+pelukis))\n",
    "volume=int((1/3)*phi*(jari*jari)*tinggi)\n",
    "\n",
    "\n",
    "print (\"luas kerucut = \", luas)\n",
    "print (\"volume kerucut = \", volume)\n",
    "while(True):\n",
    "    j=input(\"ulang lagi y/t = \")\n",
    "    if j=='t' :\n",
    "        break\n",
    "print (\"selesai\")"
   ]
  },
  {
   "cell_type": "code",
   "execution_count": null,
   "metadata": {},
   "outputs": [],
   "source": []
  },
  {
   "cell_type": "code",
   "execution_count": 27,
   "metadata": {},
   "outputs": [
    {
     "ename": "NameError",
     "evalue": "name 'e' is not defined",
     "output_type": "error",
     "traceback": [
      "\u001b[1;31m---------------------------------------------------------------------------\u001b[0m",
      "\u001b[1;31mNameError\u001b[0m                                 Traceback (most recent call last)",
      "\u001b[1;32m<ipython-input-27-094e3afb2fe8>\u001b[0m in \u001b[0;36m<module>\u001b[1;34m\u001b[0m\n\u001b[1;32m----> 1\u001b[1;33m \u001b[0me\u001b[0m\u001b[1;33m\u001b[0m\u001b[1;33m\u001b[0m\u001b[0m\n\u001b[0m",
      "\u001b[1;31mNameError\u001b[0m: name 'e' is not defined"
     ]
    }
   ],
   "source": [
    "e"
   ]
  },
  {
   "cell_type": "code",
   "execution_count": null,
   "metadata": {},
   "outputs": [],
   "source": []
  }
 ],
 "metadata": {
  "kernelspec": {
   "display_name": "Python 3",
   "language": "python",
   "name": "python3"
  },
  "language_info": {
   "codemirror_mode": {
    "name": "ipython",
    "version": 3
   },
   "file_extension": ".py",
   "mimetype": "text/x-python",
   "name": "python",
   "nbconvert_exporter": "python",
   "pygments_lexer": "ipython3",
   "version": "3.9.0"
  }
 },
 "nbformat": 4,
 "nbformat_minor": 4
}
